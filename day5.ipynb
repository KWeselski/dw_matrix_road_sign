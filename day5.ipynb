{
  "nbformat": 4,
  "nbformat_minor": 0,
  "metadata": {
    "colab": {
      "name": "Copy of day5.ipynb",
      "provenance": [],
      "collapsed_sections": [],
      "include_colab_link": true
    },
    "kernelspec": {
      "name": "python3",
      "display_name": "Python 3"
    },
    "accelerator": "GPU"
  },
  "cells": [
    {
      "cell_type": "markdown",
      "metadata": {
        "id": "view-in-github",
        "colab_type": "text"
      },
      "source": [
        "<a href=\"https://colab.research.google.com/github/KWeselski/dw_matrix_road_sign/blob/master/day5.ipynb\" target=\"_parent\"><img src=\"https://colab.research.google.com/assets/colab-badge.svg\" alt=\"Open In Colab\"/></a>"
      ]
    },
    {
      "cell_type": "code",
      "metadata": {
        "id": "cvpALuaSLPMF",
        "colab_type": "code",
        "colab": {}
      },
      "source": [
        "import pandas as pd\n",
        "import numpy as np\n",
        "import tensorflow as tf\n",
        "from tensorflow.keras.models import Sequential\n",
        "from tensorflow.keras.layers import Conv2D, MaxPooling2D, Dense, Flatten, Dropout\n",
        "from tensorflow.keras.utils import to_categorical\n",
        "import os\n",
        "import datetime\n",
        "import matplotlib.pyplot as plt\n",
        "from skimage import color, exposure\n",
        "from sklearn.metrics import accuracy_score\n",
        "from hyperopt import hp, STATUS_OK, tpe, Trials, fmin"
      ],
      "execution_count": 0,
      "outputs": []
    },
    {
      "cell_type": "code",
      "metadata": {
        "id": "uEHhLTTdXRdw",
        "colab_type": "code",
        "colab": {}
      },
      "source": [
        "%load_ext tensorboard"
      ],
      "execution_count": 0,
      "outputs": []
    },
    {
      "cell_type": "code",
      "metadata": {
        "id": "S9kwZlcYDbeN",
        "colab_type": "code",
        "outputId": "6b7d9e02-38fa-4eae-fd94-a0198a39cbc2",
        "colab": {
          "base_uri": "https://localhost:8080/",
          "height": 130
        }
      },
      "source": [
        "from google.colab import drive\n",
        "drive.mount('/content/drive')"
      ],
      "execution_count": 3,
      "outputs": [
        {
          "output_type": "stream",
          "text": [
            "Go to this URL in a browser: https://accounts.google.com/o/oauth2/auth?client_id=947318989803-6bn6qk8qdgf4n4g3pfee6491hc0brc4i.apps.googleusercontent.com&redirect_uri=urn%3aietf%3awg%3aoauth%3a2.0%3aoob&response_type=code&scope=email%20https%3a%2f%2fwww.googleapis.com%2fauth%2fdocs.test%20https%3a%2f%2fwww.googleapis.com%2fauth%2fdrive%20https%3a%2f%2fwww.googleapis.com%2fauth%2fdrive.photos.readonly%20https%3a%2f%2fwww.googleapis.com%2fauth%2fpeopleapi.readonly\n",
            "\n",
            "Enter your authorization code:\n",
            "··········\n",
            "Mounted at /content/drive\n"
          ],
          "name": "stdout"
        }
      ]
    },
    {
      "cell_type": "code",
      "metadata": {
        "id": "GyRXdlIeLYSL",
        "colab_type": "code",
        "outputId": "02d56db7-ec69-4dcb-cfd1-2015d479c7da",
        "colab": {
          "base_uri": "https://localhost:8080/",
          "height": 36
        }
      },
      "source": [
        "cd '/content/drive/My Drive/Colab Notebooks/matrix/matrix_three/dw_matrix_road_sign'"
      ],
      "execution_count": 3,
      "outputs": [
        {
          "output_type": "stream",
          "text": [
            "/content/drive/My Drive/Colab Notebooks/matrix/matrix_three/dw_matrix_road_sign\n"
          ],
          "name": "stdout"
        }
      ]
    },
    {
      "cell_type": "code",
      "metadata": {
        "id": "9PqoReX2Lzag",
        "colab_type": "code",
        "colab": {}
      },
      "source": [
        "train = pd.read_pickle('data/train.p')\n",
        "test = pd.read_pickle('data/test.p')"
      ],
      "execution_count": 0,
      "outputs": []
    },
    {
      "cell_type": "code",
      "metadata": {
        "id": "d-HO_549MD3r",
        "colab_type": "code",
        "colab": {}
      },
      "source": [
        "X_train, y_train = train['features'], train['labels']\n",
        "X_test, y_test = test['features'], test['labels']"
      ],
      "execution_count": 0,
      "outputs": []
    },
    {
      "cell_type": "code",
      "metadata": {
        "id": "KRMb513CMIaW",
        "colab_type": "code",
        "colab": {}
      },
      "source": [
        "if y_train.ndim == 1: y_train = to_categorical(y_train)\n",
        "if y_test.ndim == 1: y_test = to_categorical(y_test)"
      ],
      "execution_count": 0,
      "outputs": []
    },
    {
      "cell_type": "code",
      "metadata": {
        "id": "Sualk7uNNEul",
        "colab_type": "code",
        "colab": {}
      },
      "source": [
        "input_shape = X_train.shape[1:]\n",
        "num_classes = y_train.shape[1]"
      ],
      "execution_count": 0,
      "outputs": []
    },
    {
      "cell_type": "code",
      "metadata": {
        "id": "On8qAIRPMths",
        "colab_type": "code",
        "colab": {}
      },
      "source": [
        "def train_model(model, X_train, y_train, params_fit={}):\n",
        "  model.compile(loss='categorical_crossentropy', optimizer='Adam', metrics=['accuracy'])\n",
        "  logdir = os.path.join('logs', datetime.datetime.now().strftime(\"%Y%m%d-%H%M%S\"))\n",
        "  tensorboard_callback = tf.keras.callbacks.TensorBoard(logdir, histogram_freq=1)\n",
        "  model.fit(X_train,\n",
        "             y_train,\n",
        "             batch_size=params_fit.get('batch_size',128),\n",
        "             epochs = params_fit.get('epochs', 5),\n",
        "             verbose = params_fit.get('verbose', 1),\n",
        "             validation_data = params_fit.get('validation_data', (X_train, y_train)),\n",
        "             callbacks =[tensorboard_callback],\n",
        "  )\n",
        "  return model"
      ],
      "execution_count": 0,
      "outputs": []
    },
    {
      "cell_type": "code",
      "metadata": {
        "id": "xc5FOUlwN2Ja",
        "colab_type": "code",
        "colab": {}
      },
      "source": [
        "def predict(model_trained, X_test, y_test,scoring=accuracy_score):\n",
        "  y_test_norm = np.argmax(y_test, axis=1)\n",
        "  y_pred_prob = model_trained.predict(X_test)\n",
        "  y_pred = np.argmax(y_pred_prob, axis=1)\n",
        "  return scoring(y_test_norm, y_pred)\n",
        "\n",
        "def train_and_predict(model):\n",
        "  model_trained = train_model(model,X_train,y_train)\n",
        "  return predict(model_trained,X_test,y_test)"
      ],
      "execution_count": 0,
      "outputs": []
    },
    {
      "cell_type": "code",
      "metadata": {
        "id": "L7TDRaeiQThc",
        "colab_type": "code",
        "colab": {}
      },
      "source": [
        ""
      ],
      "execution_count": 0,
      "outputs": []
    },
    {
      "cell_type": "code",
      "metadata": {
        "id": "84BVWfuaQ2Y8",
        "colab_type": "code",
        "colab": {}
      },
      "source": [
        "def get_cnn_v3(input_shape, num_classes):\n",
        " return Sequential([\n",
        "      Conv2D(64,(3,3),activation='relu',input_shape=input_shape),\n",
        "      Conv2D(64,(3,3),activation='relu'),\n",
        "      MaxPooling2D(),\n",
        "      Dropout(0.5),\n",
        "      Conv2D(128,(3,3),activation='relu',padding='same'),\n",
        "      Conv2D(128,(3,3),activation='relu'),\n",
        "      MaxPooling2D(),\n",
        "      Dropout(0.3),\n",
        "      Conv2D(256,(3,3),activation='relu',padding='same'),\n",
        "      Conv2D(256,(3,3),activation='relu'),\n",
        "      Dropout(0.3),\n",
        "      Flatten(),\n",
        "      Dense(1024, activation='relu'),\n",
        "      Dense(512, activation='relu'),\n",
        "      Dense(num_classes, activation='softmax'),\n",
        "  ])"
      ],
      "execution_count": 0,
      "outputs": []
    },
    {
      "cell_type": "code",
      "metadata": {
        "id": "QjaFSXrPSuwY",
        "colab_type": "code",
        "colab": {}
      },
      "source": [
        "X_train_gray = color.rgb2gray(X_train).reshape(-1,32,32,1)\n",
        "X_test_gray = color.rgb2gray(X_test).reshape(-1,32,32,1)"
      ],
      "execution_count": 0,
      "outputs": []
    },
    {
      "cell_type": "code",
      "metadata": {
        "id": "SBCgIZUCTlcU",
        "colab_type": "code",
        "outputId": "505ad67c-1b83-4a5c-e641-8482afdae51a",
        "colab": {
          "base_uri": "https://localhost:8080/",
          "height": 403
        }
      },
      "source": [
        "model = get_cnn_v3((32,32,1), num_classes)\n",
        "model_trained = train_model(model, X_train_gray, y_train, params_fit={'epochs':15})\n",
        "predict(model_trained,X_test_gray,y_test)"
      ],
      "execution_count": 12,
      "outputs": [
        {
          "output_type": "stream",
          "text": [
            "Epoch 1/15\n",
            " 22/272 [=>............................] - ETA: 4s - loss: 3.6950 - accuracy: 0.0597"
          ],
          "name": "stdout"
        },
        {
          "output_type": "error",
          "ename": "KeyboardInterrupt",
          "evalue": "ignored",
          "traceback": [
            "\u001b[0;31m---------------------------------------------------------------------------\u001b[0m",
            "\u001b[0;31mKeyboardInterrupt\u001b[0m                         Traceback (most recent call last)",
            "\u001b[0;32m<ipython-input-12-03ecc47bcd03>\u001b[0m in \u001b[0;36m<module>\u001b[0;34m()\u001b[0m\n\u001b[1;32m      1\u001b[0m \u001b[0mmodel\u001b[0m \u001b[0;34m=\u001b[0m \u001b[0mget_cnn_v3\u001b[0m\u001b[0;34m(\u001b[0m\u001b[0;34m(\u001b[0m\u001b[0;36m32\u001b[0m\u001b[0;34m,\u001b[0m\u001b[0;36m32\u001b[0m\u001b[0;34m,\u001b[0m\u001b[0;36m1\u001b[0m\u001b[0;34m)\u001b[0m\u001b[0;34m,\u001b[0m \u001b[0mnum_classes\u001b[0m\u001b[0;34m)\u001b[0m\u001b[0;34m\u001b[0m\u001b[0;34m\u001b[0m\u001b[0m\n\u001b[0;32m----> 2\u001b[0;31m \u001b[0mmodel_trained\u001b[0m \u001b[0;34m=\u001b[0m \u001b[0mtrain_model\u001b[0m\u001b[0;34m(\u001b[0m\u001b[0mmodel\u001b[0m\u001b[0;34m,\u001b[0m \u001b[0mX_train_gray\u001b[0m\u001b[0;34m,\u001b[0m \u001b[0my_train\u001b[0m\u001b[0;34m,\u001b[0m \u001b[0mparams_fit\u001b[0m\u001b[0;34m=\u001b[0m\u001b[0;34m{\u001b[0m\u001b[0;34m'epochs'\u001b[0m\u001b[0;34m:\u001b[0m\u001b[0;36m15\u001b[0m\u001b[0;34m}\u001b[0m\u001b[0;34m)\u001b[0m\u001b[0;34m\u001b[0m\u001b[0;34m\u001b[0m\u001b[0m\n\u001b[0m\u001b[1;32m      3\u001b[0m \u001b[0mpredict\u001b[0m\u001b[0;34m(\u001b[0m\u001b[0mmodel_trained\u001b[0m\u001b[0;34m,\u001b[0m\u001b[0mX_test_gray\u001b[0m\u001b[0;34m,\u001b[0m\u001b[0my_test\u001b[0m\u001b[0;34m)\u001b[0m\u001b[0;34m\u001b[0m\u001b[0;34m\u001b[0m\u001b[0m\n",
            "\u001b[0;32m<ipython-input-8-7527a69a907c>\u001b[0m in \u001b[0;36mtrain_model\u001b[0;34m(model, X_train, y_train, params_fit)\u001b[0m\n\u001b[1;32m      9\u001b[0m              \u001b[0mverbose\u001b[0m \u001b[0;34m=\u001b[0m \u001b[0mparams_fit\u001b[0m\u001b[0;34m.\u001b[0m\u001b[0mget\u001b[0m\u001b[0;34m(\u001b[0m\u001b[0;34m'verbose'\u001b[0m\u001b[0;34m,\u001b[0m \u001b[0;36m1\u001b[0m\u001b[0;34m)\u001b[0m\u001b[0;34m,\u001b[0m\u001b[0;34m\u001b[0m\u001b[0;34m\u001b[0m\u001b[0m\n\u001b[1;32m     10\u001b[0m              \u001b[0mvalidation_data\u001b[0m \u001b[0;34m=\u001b[0m \u001b[0mparams_fit\u001b[0m\u001b[0;34m.\u001b[0m\u001b[0mget\u001b[0m\u001b[0;34m(\u001b[0m\u001b[0;34m'validation_data'\u001b[0m\u001b[0;34m,\u001b[0m \u001b[0;34m(\u001b[0m\u001b[0mX_train\u001b[0m\u001b[0;34m,\u001b[0m \u001b[0my_train\u001b[0m\u001b[0;34m)\u001b[0m\u001b[0;34m)\u001b[0m\u001b[0;34m,\u001b[0m\u001b[0;34m\u001b[0m\u001b[0;34m\u001b[0m\u001b[0m\n\u001b[0;32m---> 11\u001b[0;31m              \u001b[0mcallbacks\u001b[0m \u001b[0;34m=\u001b[0m\u001b[0;34m[\u001b[0m\u001b[0mtensorboard_callback\u001b[0m\u001b[0;34m]\u001b[0m\u001b[0;34m,\u001b[0m\u001b[0;34m\u001b[0m\u001b[0;34m\u001b[0m\u001b[0m\n\u001b[0m\u001b[1;32m     12\u001b[0m   )\n\u001b[1;32m     13\u001b[0m   \u001b[0;32mreturn\u001b[0m \u001b[0mmodel\u001b[0m\u001b[0;34m\u001b[0m\u001b[0;34m\u001b[0m\u001b[0m\n",
            "\u001b[0;32m/usr/local/lib/python3.6/dist-packages/tensorflow/python/keras/engine/training.py\u001b[0m in \u001b[0;36m_method_wrapper\u001b[0;34m(self, *args, **kwargs)\u001b[0m\n\u001b[1;32m     64\u001b[0m   \u001b[0;32mdef\u001b[0m \u001b[0m_method_wrapper\u001b[0m\u001b[0;34m(\u001b[0m\u001b[0mself\u001b[0m\u001b[0;34m,\u001b[0m \u001b[0;34m*\u001b[0m\u001b[0margs\u001b[0m\u001b[0;34m,\u001b[0m \u001b[0;34m**\u001b[0m\u001b[0mkwargs\u001b[0m\u001b[0;34m)\u001b[0m\u001b[0;34m:\u001b[0m\u001b[0;34m\u001b[0m\u001b[0;34m\u001b[0m\u001b[0m\n\u001b[1;32m     65\u001b[0m     \u001b[0;32mif\u001b[0m \u001b[0;32mnot\u001b[0m \u001b[0mself\u001b[0m\u001b[0;34m.\u001b[0m\u001b[0m_in_multi_worker_mode\u001b[0m\u001b[0;34m(\u001b[0m\u001b[0;34m)\u001b[0m\u001b[0;34m:\u001b[0m  \u001b[0;31m# pylint: disable=protected-access\u001b[0m\u001b[0;34m\u001b[0m\u001b[0;34m\u001b[0m\u001b[0m\n\u001b[0;32m---> 66\u001b[0;31m       \u001b[0;32mreturn\u001b[0m \u001b[0mmethod\u001b[0m\u001b[0;34m(\u001b[0m\u001b[0mself\u001b[0m\u001b[0;34m,\u001b[0m \u001b[0;34m*\u001b[0m\u001b[0margs\u001b[0m\u001b[0;34m,\u001b[0m \u001b[0;34m**\u001b[0m\u001b[0mkwargs\u001b[0m\u001b[0;34m)\u001b[0m\u001b[0;34m\u001b[0m\u001b[0;34m\u001b[0m\u001b[0m\n\u001b[0m\u001b[1;32m     67\u001b[0m \u001b[0;34m\u001b[0m\u001b[0m\n\u001b[1;32m     68\u001b[0m     \u001b[0;31m# Running inside `run_distribute_coordinator` already.\u001b[0m\u001b[0;34m\u001b[0m\u001b[0;34m\u001b[0m\u001b[0;34m\u001b[0m\u001b[0m\n",
            "\u001b[0;32m/usr/local/lib/python3.6/dist-packages/tensorflow/python/keras/engine/training.py\u001b[0m in \u001b[0;36mfit\u001b[0;34m(self, x, y, batch_size, epochs, verbose, callbacks, validation_split, validation_data, shuffle, class_weight, sample_weight, initial_epoch, steps_per_epoch, validation_steps, validation_batch_size, validation_freq, max_queue_size, workers, use_multiprocessing, **kwargs)\u001b[0m\n\u001b[1;32m    790\u001b[0m                 \u001b[0mcontext\u001b[0m\u001b[0;34m.\u001b[0m\u001b[0masync_wait\u001b[0m\u001b[0;34m(\u001b[0m\u001b[0;34m)\u001b[0m\u001b[0;34m\u001b[0m\u001b[0;34m\u001b[0m\u001b[0m\n\u001b[1;32m    791\u001b[0m               \u001b[0mlogs\u001b[0m \u001b[0;34m=\u001b[0m \u001b[0mtmp_logs\u001b[0m  \u001b[0;31m# No error, now safe to assign to logs.\u001b[0m\u001b[0;34m\u001b[0m\u001b[0;34m\u001b[0m\u001b[0m\n\u001b[0;32m--> 792\u001b[0;31m               \u001b[0mcallbacks\u001b[0m\u001b[0;34m.\u001b[0m\u001b[0mon_train_batch_end\u001b[0m\u001b[0;34m(\u001b[0m\u001b[0mstep\u001b[0m\u001b[0;34m,\u001b[0m \u001b[0mlogs\u001b[0m\u001b[0;34m)\u001b[0m\u001b[0;34m\u001b[0m\u001b[0;34m\u001b[0m\u001b[0m\n\u001b[0m\u001b[1;32m    793\u001b[0m         \u001b[0mepoch_logs\u001b[0m \u001b[0;34m=\u001b[0m \u001b[0mcopy\u001b[0m\u001b[0;34m.\u001b[0m\u001b[0mcopy\u001b[0m\u001b[0;34m(\u001b[0m\u001b[0mlogs\u001b[0m\u001b[0;34m)\u001b[0m\u001b[0;34m\u001b[0m\u001b[0;34m\u001b[0m\u001b[0m\n\u001b[1;32m    794\u001b[0m \u001b[0;34m\u001b[0m\u001b[0m\n",
            "\u001b[0;32m/usr/local/lib/python3.6/dist-packages/tensorflow/python/keras/callbacks.py\u001b[0m in \u001b[0;36mon_train_batch_end\u001b[0;34m(self, batch, logs)\u001b[0m\n\u001b[1;32m    388\u001b[0m     \u001b[0;32mif\u001b[0m \u001b[0mself\u001b[0m\u001b[0;34m.\u001b[0m\u001b[0m_should_call_train_batch_hooks\u001b[0m\u001b[0;34m:\u001b[0m\u001b[0;34m\u001b[0m\u001b[0;34m\u001b[0m\u001b[0m\n\u001b[1;32m    389\u001b[0m       \u001b[0mlogs\u001b[0m \u001b[0;34m=\u001b[0m \u001b[0mself\u001b[0m\u001b[0;34m.\u001b[0m\u001b[0m_process_logs\u001b[0m\u001b[0;34m(\u001b[0m\u001b[0mlogs\u001b[0m\u001b[0;34m)\u001b[0m\u001b[0;34m\u001b[0m\u001b[0;34m\u001b[0m\u001b[0m\n\u001b[0;32m--> 390\u001b[0;31m       \u001b[0mself\u001b[0m\u001b[0;34m.\u001b[0m\u001b[0m_call_batch_hook\u001b[0m\u001b[0;34m(\u001b[0m\u001b[0mModeKeys\u001b[0m\u001b[0;34m.\u001b[0m\u001b[0mTRAIN\u001b[0m\u001b[0;34m,\u001b[0m \u001b[0;34m'end'\u001b[0m\u001b[0;34m,\u001b[0m \u001b[0mbatch\u001b[0m\u001b[0;34m,\u001b[0m \u001b[0mlogs\u001b[0m\u001b[0;34m=\u001b[0m\u001b[0mlogs\u001b[0m\u001b[0;34m)\u001b[0m\u001b[0;34m\u001b[0m\u001b[0;34m\u001b[0m\u001b[0m\n\u001b[0m\u001b[1;32m    391\u001b[0m \u001b[0;34m\u001b[0m\u001b[0m\n\u001b[1;32m    392\u001b[0m   \u001b[0;32mdef\u001b[0m \u001b[0mon_test_batch_begin\u001b[0m\u001b[0;34m(\u001b[0m\u001b[0mself\u001b[0m\u001b[0;34m,\u001b[0m \u001b[0mbatch\u001b[0m\u001b[0;34m,\u001b[0m \u001b[0mlogs\u001b[0m\u001b[0;34m=\u001b[0m\u001b[0;32mNone\u001b[0m\u001b[0;34m)\u001b[0m\u001b[0;34m:\u001b[0m\u001b[0;34m\u001b[0m\u001b[0;34m\u001b[0m\u001b[0m\n",
            "\u001b[0;32m/usr/local/lib/python3.6/dist-packages/tensorflow/python/keras/callbacks.py\u001b[0m in \u001b[0;36m_call_batch_hook\u001b[0;34m(self, mode, hook, batch, logs)\u001b[0m\n\u001b[1;32m    296\u001b[0m     \u001b[0;32mfor\u001b[0m \u001b[0mcallback\u001b[0m \u001b[0;32min\u001b[0m \u001b[0mself\u001b[0m\u001b[0;34m.\u001b[0m\u001b[0mcallbacks\u001b[0m\u001b[0;34m:\u001b[0m\u001b[0;34m\u001b[0m\u001b[0;34m\u001b[0m\u001b[0m\n\u001b[1;32m    297\u001b[0m       \u001b[0mbatch_hook\u001b[0m \u001b[0;34m=\u001b[0m \u001b[0mgetattr\u001b[0m\u001b[0;34m(\u001b[0m\u001b[0mcallback\u001b[0m\u001b[0;34m,\u001b[0m \u001b[0mhook_name\u001b[0m\u001b[0;34m)\u001b[0m\u001b[0;34m\u001b[0m\u001b[0;34m\u001b[0m\u001b[0m\n\u001b[0;32m--> 298\u001b[0;31m       \u001b[0mbatch_hook\u001b[0m\u001b[0;34m(\u001b[0m\u001b[0mbatch\u001b[0m\u001b[0;34m,\u001b[0m \u001b[0mlogs\u001b[0m\u001b[0;34m)\u001b[0m\u001b[0;34m\u001b[0m\u001b[0;34m\u001b[0m\u001b[0m\n\u001b[0m\u001b[1;32m    299\u001b[0m     \u001b[0mself\u001b[0m\u001b[0;34m.\u001b[0m\u001b[0m_delta_ts\u001b[0m\u001b[0;34m[\u001b[0m\u001b[0mhook_name\u001b[0m\u001b[0;34m]\u001b[0m\u001b[0;34m.\u001b[0m\u001b[0mappend\u001b[0m\u001b[0;34m(\u001b[0m\u001b[0mtime\u001b[0m\u001b[0;34m.\u001b[0m\u001b[0mtime\u001b[0m\u001b[0;34m(\u001b[0m\u001b[0;34m)\u001b[0m \u001b[0;34m-\u001b[0m \u001b[0mt_before_callbacks\u001b[0m\u001b[0;34m)\u001b[0m\u001b[0;34m\u001b[0m\u001b[0;34m\u001b[0m\u001b[0m\n\u001b[1;32m    300\u001b[0m \u001b[0;34m\u001b[0m\u001b[0m\n",
            "\u001b[0;32m/usr/local/lib/python3.6/dist-packages/tensorflow/python/keras/callbacks.py\u001b[0m in \u001b[0;36mon_train_batch_end\u001b[0;34m(self, batch, logs)\u001b[0m\n\u001b[1;32m   1983\u001b[0m       control_flow_ops.cond(\n\u001b[1;32m   1984\u001b[0m           \u001b[0mmath_ops\u001b[0m\u001b[0;34m.\u001b[0m\u001b[0mequal\u001b[0m\u001b[0;34m(\u001b[0m\u001b[0mtrain_batches\u001b[0m\u001b[0;34m,\u001b[0m \u001b[0mself\u001b[0m\u001b[0;34m.\u001b[0m\u001b[0m_start_batch\u001b[0m \u001b[0;34m-\u001b[0m \u001b[0;36m1\u001b[0m\u001b[0;34m)\u001b[0m\u001b[0;34m,\u001b[0m\u001b[0;34m\u001b[0m\u001b[0;34m\u001b[0m\u001b[0m\n\u001b[0;32m-> 1985\u001b[0;31m           lambda: self._enable_trace_return_true(), lambda: False)  # pylint: disable=unnecessary-lambda\n\u001b[0m\u001b[1;32m   1986\u001b[0m \u001b[0;34m\u001b[0m\u001b[0m\n\u001b[1;32m   1987\u001b[0m   \u001b[0;32mdef\u001b[0m \u001b[0mon_test_batch_end\u001b[0m\u001b[0;34m(\u001b[0m\u001b[0mself\u001b[0m\u001b[0;34m,\u001b[0m \u001b[0mbatch\u001b[0m\u001b[0;34m,\u001b[0m \u001b[0mlogs\u001b[0m\u001b[0;34m=\u001b[0m\u001b[0;32mNone\u001b[0m\u001b[0;34m)\u001b[0m\u001b[0;34m:\u001b[0m\u001b[0;34m\u001b[0m\u001b[0;34m\u001b[0m\u001b[0m\n",
            "\u001b[0;32m/usr/local/lib/python3.6/dist-packages/tensorflow/python/util/deprecation.py\u001b[0m in \u001b[0;36mnew_func\u001b[0;34m(*args, **kwargs)\u001b[0m\n\u001b[1;32m    505\u001b[0m                 \u001b[0;34m'in a future version'\u001b[0m \u001b[0;32mif\u001b[0m \u001b[0mdate\u001b[0m \u001b[0;32mis\u001b[0m \u001b[0;32mNone\u001b[0m \u001b[0;32melse\u001b[0m \u001b[0;34m(\u001b[0m\u001b[0;34m'after %s'\u001b[0m \u001b[0;34m%\u001b[0m \u001b[0mdate\u001b[0m\u001b[0;34m)\u001b[0m\u001b[0;34m,\u001b[0m\u001b[0;34m\u001b[0m\u001b[0;34m\u001b[0m\u001b[0m\n\u001b[1;32m    506\u001b[0m                 instructions)\n\u001b[0;32m--> 507\u001b[0;31m       \u001b[0;32mreturn\u001b[0m \u001b[0mfunc\u001b[0m\u001b[0;34m(\u001b[0m\u001b[0;34m*\u001b[0m\u001b[0margs\u001b[0m\u001b[0;34m,\u001b[0m \u001b[0;34m**\u001b[0m\u001b[0mkwargs\u001b[0m\u001b[0;34m)\u001b[0m\u001b[0;34m\u001b[0m\u001b[0;34m\u001b[0m\u001b[0m\n\u001b[0m\u001b[1;32m    508\u001b[0m \u001b[0;34m\u001b[0m\u001b[0m\n\u001b[1;32m    509\u001b[0m     doc = _add_deprecated_arg_notice_to_docstring(\n",
            "\u001b[0;32m/usr/local/lib/python3.6/dist-packages/tensorflow/python/ops/control_flow_ops.py\u001b[0m in \u001b[0;36mcond\u001b[0;34m(pred, true_fn, false_fn, strict, name, fn1, fn2)\u001b[0m\n\u001b[1;32m   1202\u001b[0m   \u001b[0;32mwith\u001b[0m \u001b[0mops\u001b[0m\u001b[0;34m.\u001b[0m\u001b[0mname_scope\u001b[0m\u001b[0;34m(\u001b[0m\u001b[0mname\u001b[0m\u001b[0;34m,\u001b[0m \u001b[0;34m\"cond\"\u001b[0m\u001b[0;34m,\u001b[0m \u001b[0;34m[\u001b[0m\u001b[0mpred\u001b[0m\u001b[0;34m]\u001b[0m\u001b[0;34m)\u001b[0m\u001b[0;34m:\u001b[0m\u001b[0;34m\u001b[0m\u001b[0;34m\u001b[0m\u001b[0m\n\u001b[1;32m   1203\u001b[0m     \u001b[0;32mif\u001b[0m \u001b[0mcontext\u001b[0m\u001b[0;34m.\u001b[0m\u001b[0mexecuting_eagerly\u001b[0m\u001b[0;34m(\u001b[0m\u001b[0;34m)\u001b[0m\u001b[0;34m:\u001b[0m\u001b[0;34m\u001b[0m\u001b[0;34m\u001b[0m\u001b[0m\n\u001b[0;32m-> 1204\u001b[0;31m       \u001b[0;32mif\u001b[0m \u001b[0mpred\u001b[0m\u001b[0;34m:\u001b[0m\u001b[0;34m\u001b[0m\u001b[0;34m\u001b[0m\u001b[0m\n\u001b[0m\u001b[1;32m   1205\u001b[0m         \u001b[0mresult\u001b[0m \u001b[0;34m=\u001b[0m \u001b[0mtrue_fn\u001b[0m\u001b[0;34m(\u001b[0m\u001b[0;34m)\u001b[0m\u001b[0;34m\u001b[0m\u001b[0;34m\u001b[0m\u001b[0m\n\u001b[1;32m   1206\u001b[0m       \u001b[0;32melse\u001b[0m\u001b[0;34m:\u001b[0m\u001b[0;34m\u001b[0m\u001b[0;34m\u001b[0m\u001b[0m\n",
            "\u001b[0;32m/usr/local/lib/python3.6/dist-packages/tensorflow/python/framework/ops.py\u001b[0m in \u001b[0;36m__bool__\u001b[0;34m(self)\u001b[0m\n\u001b[1;32m    882\u001b[0m \u001b[0;34m\u001b[0m\u001b[0m\n\u001b[1;32m    883\u001b[0m   \u001b[0;32mdef\u001b[0m \u001b[0m__bool__\u001b[0m\u001b[0;34m(\u001b[0m\u001b[0mself\u001b[0m\u001b[0;34m)\u001b[0m\u001b[0;34m:\u001b[0m\u001b[0;34m\u001b[0m\u001b[0;34m\u001b[0m\u001b[0m\n\u001b[0;32m--> 884\u001b[0;31m     \u001b[0;32mreturn\u001b[0m \u001b[0mbool\u001b[0m\u001b[0;34m(\u001b[0m\u001b[0mself\u001b[0m\u001b[0;34m.\u001b[0m\u001b[0m_numpy\u001b[0m\u001b[0;34m(\u001b[0m\u001b[0;34m)\u001b[0m\u001b[0;34m)\u001b[0m\u001b[0;34m\u001b[0m\u001b[0;34m\u001b[0m\u001b[0m\n\u001b[0m\u001b[1;32m    885\u001b[0m \u001b[0;34m\u001b[0m\u001b[0m\n\u001b[1;32m    886\u001b[0m   \u001b[0m__nonzero__\u001b[0m \u001b[0;34m=\u001b[0m \u001b[0m__bool__\u001b[0m\u001b[0;34m\u001b[0m\u001b[0;34m\u001b[0m\u001b[0m\n",
            "\u001b[0;32m/usr/local/lib/python3.6/dist-packages/tensorflow/python/framework/ops.py\u001b[0m in \u001b[0;36m_numpy\u001b[0;34m(self)\u001b[0m\n\u001b[1;32m    925\u001b[0m     \u001b[0;31m# pylint: disable=protected-access\u001b[0m\u001b[0;34m\u001b[0m\u001b[0;34m\u001b[0m\u001b[0;34m\u001b[0m\u001b[0m\n\u001b[1;32m    926\u001b[0m     \u001b[0;32mtry\u001b[0m\u001b[0;34m:\u001b[0m\u001b[0;34m\u001b[0m\u001b[0;34m\u001b[0m\u001b[0m\n\u001b[0;32m--> 927\u001b[0;31m       \u001b[0;32mreturn\u001b[0m \u001b[0mself\u001b[0m\u001b[0;34m.\u001b[0m\u001b[0m_numpy_internal\u001b[0m\u001b[0;34m(\u001b[0m\u001b[0;34m)\u001b[0m\u001b[0;34m\u001b[0m\u001b[0;34m\u001b[0m\u001b[0m\n\u001b[0m\u001b[1;32m    928\u001b[0m     \u001b[0;32mexcept\u001b[0m \u001b[0mcore\u001b[0m\u001b[0;34m.\u001b[0m\u001b[0m_NotOkStatusException\u001b[0m \u001b[0;32mas\u001b[0m \u001b[0me\u001b[0m\u001b[0;34m:\u001b[0m\u001b[0;34m\u001b[0m\u001b[0;34m\u001b[0m\u001b[0m\n\u001b[1;32m    929\u001b[0m       \u001b[0msix\u001b[0m\u001b[0;34m.\u001b[0m\u001b[0mraise_from\u001b[0m\u001b[0;34m(\u001b[0m\u001b[0mcore\u001b[0m\u001b[0;34m.\u001b[0m\u001b[0m_status_to_exception\u001b[0m\u001b[0;34m(\u001b[0m\u001b[0me\u001b[0m\u001b[0;34m.\u001b[0m\u001b[0mcode\u001b[0m\u001b[0;34m,\u001b[0m \u001b[0me\u001b[0m\u001b[0;34m.\u001b[0m\u001b[0mmessage\u001b[0m\u001b[0;34m)\u001b[0m\u001b[0;34m,\u001b[0m \u001b[0;32mNone\u001b[0m\u001b[0;34m)\u001b[0m\u001b[0;34m\u001b[0m\u001b[0;34m\u001b[0m\u001b[0m\n",
            "\u001b[0;31mKeyboardInterrupt\u001b[0m: "
          ]
        }
      ]
    },
    {
      "cell_type": "code",
      "metadata": {
        "id": "AqLGt7imG-aB",
        "colab_type": "code",
        "colab": {}
      },
      "source": [
        "def get_model(params):\n",
        " return Sequential([\n",
        "      Conv2D(64,(3,3),activation='relu',input_shape=input_shape),\n",
        "      Conv2D(64,(3,3),activation='relu'),\n",
        "      MaxPooling2D(),\n",
        "      Dropout(params['dropout_cnn_block_one']),\n",
        "      Conv2D(128,(3,3),activation='relu',padding='same'),\n",
        "      Conv2D(128,(3,3),activation='relu'),\n",
        "      MaxPooling2D(),\n",
        "      Dropout(params['dropout_cnn_block_two']),\n",
        "      Conv2D(256,(3,3),activation='relu',padding='same'),\n",
        "      Conv2D(256,(3,3),activation='relu'),\n",
        "      Dropout(params['dropout_cnn_block_three']),\n",
        "      Flatten(),\n",
        "      Dense(1024, activation='relu'),\n",
        "      Dropout(params['dropout_dense_block_one'])\n",
        "      Dense(512, activation='relu'),\n",
        "      Dense(num_classes, activation='softmax'),\n",
        "  ])"
      ],
      "execution_count": 0,
      "outputs": []
    },
    {
      "cell_type": "code",
      "metadata": {
        "id": "O8FTUUOsUjzC",
        "colab_type": "code",
        "colab": {}
      },
      "source": [
        "def func_obj(params):\n",
        "  model = get_model(params)\n",
        "  model.compile(loss='categorical_crossentropy', optimizer='Adam', metrics=['accuracy'])\n",
        "  logdir = os.path.join('logs', datetime.datetime.now().strftime(\"%Y%m%d-%H%M%S\"))\n",
        "  tensorboard_callback = tf.keras.callbacks.TensorBoard(logdir, histogram_freq=1)\n",
        "  model.fit(\n",
        "      X_train,\n",
        "      y_train,\n",
        "      batch_size=int(params.get('batch_size',128)),\n",
        "      epochs = 5,\n",
        "      verbose = 0,\n",
        "  )\n",
        "  score = model.evaluate(X_test,y_test,verbose=0)\n",
        "  accuracy = score[1]\n",
        "  print(params, 'accuarcy={}'.format(accuracy))\n",
        "  return {'loss': -accuracy, 'status': STATUS_OK, 'model':model}"
      ],
      "execution_count": 0,
      "outputs": []
    },
    {
      "cell_type": "code",
      "metadata": {
        "id": "hZvY-PYsGHcb",
        "colab_type": "code",
        "colab": {
          "base_uri": "https://localhost:8080/",
          "height": 1000
        },
        "outputId": "c4580eb7-9dbe-4811-b402-e038bb72c537"
      },
      "source": [
        "space = {\n",
        "    'batch_size': hp.quniform('batch_size', 100, 200, 10),\n",
        "    'dropout_cnn_block_one':hp.uniform('dropout_cnn_block_one', 0.3,0.5 ),\n",
        "    'dropout_cnn_block_two':hp.uniform('dropout_cnn_block_two', 0.3,0.5 ),\n",
        "    'dropout_cnn_block_three':hp.uniform('dropout_cnn_block_three', 0.3,0.5 ),\n",
        "    'dropout_dense_block_one':hp.uniform('dropout_dense_block_one', 0.3,0.7 ),\n",
        "}\n",
        "\n",
        "best = fmin(\n",
        "    func_obj,\n",
        "    space,\n",
        "    tpe.suggest,\n",
        "    30,\n",
        "    Trials()\n",
        ")"
      ],
      "execution_count": 27,
      "outputs": [
        {
          "output_type": "stream",
          "text": [
            "{'batch_size': 100.0, 'dropout_cnn_block_one': 0.39344930351246576, 'dropout_cnn_block_three': 0.3684289528835194, 'dropout_cnn_block_two': 0.30005926376067377, 'dropout_dense_block_one': 0.34114016479953607}\n",
            "accuarcy=0.958730161190033\n",
            "{'batch_size': 200.0, 'dropout_cnn_block_one': 0.4780008394748525, 'dropout_cnn_block_three': 0.4451079422738383, 'dropout_cnn_block_two': 0.3221330807775355, 'dropout_dense_block_one': 0.41319340455846504}\n",
            "accuarcy=0.9666666388511658\n",
            "{'batch_size': 200.0, 'dropout_cnn_block_one': 0.3025741494097407, 'dropout_cnn_block_three': 0.47902186214311837, 'dropout_cnn_block_two': 0.31250499689400396, 'dropout_dense_block_one': 0.6054885202942248}\n",
            "accuarcy=0.9609977602958679\n",
            "{'batch_size': 170.0, 'dropout_cnn_block_one': 0.4387599801811823, 'dropout_cnn_block_three': 0.43492592467570146, 'dropout_cnn_block_two': 0.31960118840123697, 'dropout_dense_block_one': 0.33589318781507105}\n",
            "accuarcy=0.9687075018882751\n",
            "{'batch_size': 120.0, 'dropout_cnn_block_one': 0.3421936515810805, 'dropout_cnn_block_three': 0.3419084243187978, 'dropout_cnn_block_two': 0.3445714222416668, 'dropout_dense_block_one': 0.32205662651458117}\n",
            "accuarcy=0.9691609740257263\n",
            "{'batch_size': 190.0, 'dropout_cnn_block_one': 0.3559687782852071, 'dropout_cnn_block_three': 0.32231355704516756, 'dropout_cnn_block_two': 0.3265130091506373, 'dropout_dense_block_one': 0.4112186257809993}\n",
            "accuarcy=0.9612244963645935\n",
            "{'batch_size': 150.0, 'dropout_cnn_block_one': 0.35565661581762614, 'dropout_cnn_block_three': 0.46999646789335797, 'dropout_cnn_block_two': 0.42251080709992883, 'dropout_dense_block_one': 0.5246357682575794}\n",
            "accuarcy=0.9609977602958679\n",
            "{'batch_size': 110.0, 'dropout_cnn_block_one': 0.4391711369910351, 'dropout_cnn_block_three': 0.4269706375354562, 'dropout_cnn_block_two': 0.3542031772383457, 'dropout_dense_block_one': 0.4949589998071393}\n",
            "accuarcy=0.9405895471572876\n",
            "{'batch_size': 130.0, 'dropout_cnn_block_one': 0.4296142366867165, 'dropout_cnn_block_three': 0.4151702168165775, 'dropout_cnn_block_two': 0.304446456890371, 'dropout_dense_block_one': 0.6444243694791854}\n",
            "accuarcy=0.9548752903938293\n",
            "{'batch_size': 130.0, 'dropout_cnn_block_one': 0.41244975832813624, 'dropout_cnn_block_three': 0.413130955359604, 'dropout_cnn_block_two': 0.4946897456936443, 'dropout_dense_block_one': 0.491482633749607}\n",
            "accuarcy=0.9630385637283325\n",
            "{'batch_size': 160.0, 'dropout_cnn_block_one': 0.43618008334264236, 'dropout_cnn_block_three': 0.3700316030933689, 'dropout_cnn_block_two': 0.3282657972580705, 'dropout_dense_block_one': 0.5358038581330452}\n",
            "accuarcy=0.963718831539154\n",
            "{'batch_size': 130.0, 'dropout_cnn_block_one': 0.34336452288766295, 'dropout_cnn_block_three': 0.3228638284859482, 'dropout_cnn_block_two': 0.37618052152833026, 'dropout_dense_block_one': 0.617616481902346}\n",
            "accuarcy=0.9746031761169434\n",
            "{'batch_size': 160.0, 'dropout_cnn_block_one': 0.4169617959384193, 'dropout_cnn_block_three': 0.38090465402130425, 'dropout_cnn_block_two': 0.4109403342898007, 'dropout_dense_block_one': 0.6777223887774472}\n",
            "accuarcy=0.9646258354187012\n",
            "{'batch_size': 120.0, 'dropout_cnn_block_one': 0.4726066720951505, 'dropout_cnn_block_three': 0.3025467338042731, 'dropout_cnn_block_two': 0.47011239657671056, 'dropout_dense_block_one': 0.35905683385171816}\n",
            "accuarcy=0.9176870584487915\n",
            "{'batch_size': 170.0, 'dropout_cnn_block_one': 0.3985799137549599, 'dropout_cnn_block_three': 0.3676272167333313, 'dropout_cnn_block_two': 0.46365465082839136, 'dropout_dense_block_one': 0.3652016513655829}\n",
            "accuarcy=0.9714285731315613\n",
            "{'batch_size': 120.0, 'dropout_cnn_block_one': 0.44528881709962276, 'dropout_cnn_block_three': 0.41359674936340163, 'dropout_cnn_block_two': 0.45000677553008195, 'dropout_dense_block_one': 0.6018307601388106}\n",
            "accuarcy=0.9263038635253906\n",
            "{'batch_size': 160.0, 'dropout_cnn_block_one': 0.4872848938324521, 'dropout_cnn_block_three': 0.3708533027123916, 'dropout_cnn_block_two': 0.4802215628020706, 'dropout_dense_block_one': 0.5065666534505002}\n",
            "accuarcy=0.9632652997970581\n",
            "{'batch_size': 130.0, 'dropout_cnn_block_one': 0.4959287476184644, 'dropout_cnn_block_three': 0.46578551336614715, 'dropout_cnn_block_two': 0.45431669740321495, 'dropout_dense_block_one': 0.612304445034212}\n",
            "accuarcy=0.9020408391952515\n",
            "{'batch_size': 170.0, 'dropout_cnn_block_one': 0.4904113362357337, 'dropout_cnn_block_three': 0.3628030529289996, 'dropout_cnn_block_two': 0.4871781302960186, 'dropout_dense_block_one': 0.4996311993472134}\n",
            "accuarcy=0.9700680375099182\n",
            "{'batch_size': 190.0, 'dropout_cnn_block_one': 0.41184328605651555, 'dropout_cnn_block_three': 0.31472244063486, 'dropout_cnn_block_two': 0.31020132459918576, 'dropout_dense_block_one': 0.3888436445644832}\n",
            "accuarcy=0.9716553092002869\n",
            "{'batch_size': 140.0, 'dropout_cnn_block_one': 0.3080311344917479, 'dropout_cnn_block_three': 0.30290206412977, 'dropout_cnn_block_two': 0.37567289233513645, 'dropout_dense_block_one': 0.4062239315315145}\n",
            "accuarcy=0.9700680375099182\n",
            "{'batch_size': 190.0, 'dropout_cnn_block_one': 0.3846398017269089, 'dropout_cnn_block_three': 0.334340542355083, 'dropout_cnn_block_two': 0.38314006501114434, 'dropout_dense_block_one': 0.5649150496193844}\n",
            "accuarcy=0.9575963616371155\n",
            "{'batch_size': 100.0, 'dropout_cnn_block_one': 0.3250798135478693, 'dropout_cnn_block_three': 0.31746027666513743, 'dropout_cnn_block_two': 0.36317220700557057, 'dropout_dense_block_one': 0.4547660450691682}\n",
            "accuarcy=0.9680272340774536\n",
            "{'batch_size': 140.0, 'dropout_cnn_block_one': 0.3719993487883856, 'dropout_cnn_block_three': 0.33303476709755897, 'dropout_cnn_block_two': 0.4326272417904496, 'dropout_dense_block_one': 0.6847839380691677}\n",
            "accuarcy=0.9181405901908875\n",
            "{'batch_size': 180.0, 'dropout_cnn_block_one': 0.4616452199762816, 'dropout_cnn_block_three': 0.3029667242496995, 'dropout_cnn_block_two': 0.39647176651611626, 'dropout_dense_block_one': 0.44616110599503617}\n",
            "accuarcy=0.9693877696990967\n",
            "{'batch_size': 150.0, 'dropout_cnn_block_one': 0.37536776372103103, 'dropout_cnn_block_three': 0.34786123830753674, 'dropout_cnn_block_two': 0.3433899686379485, 'dropout_dense_block_one': 0.5559419717735331}\n",
            "accuarcy=0.9630385637283325\n",
            "{'batch_size': 140.0, 'dropout_cnn_block_one': 0.32532430622954384, 'dropout_cnn_block_three': 0.3885165698863869, 'dropout_cnn_block_two': 0.3895156239973462, 'dropout_dense_block_one': 0.30447029719831764}\n",
            "accuarcy=0.9539682269096375\n",
            "{'batch_size': 110.0, 'dropout_cnn_block_one': 0.4087103512877831, 'dropout_cnn_block_three': 0.3184300182759165, 'dropout_cnn_block_two': 0.37449571216538996, 'dropout_dense_block_one': 0.6495169788107209}\n",
            "accuarcy=0.9675737023353577\n",
            "{'batch_size': 100.0, 'dropout_cnn_block_one': 0.3872260206808385, 'dropout_cnn_block_three': 0.3543046614366073, 'dropout_cnn_block_two': 0.3032936377373187, 'dropout_dense_block_one': 0.45829305436101087}\n",
            "accuarcy=0.9741496443748474\n",
            "{'batch_size': 100.0, 'dropout_cnn_block_one': 0.33217508506592186, 'dropout_cnn_block_three': 0.399606897257768, 'dropout_cnn_block_two': 0.411227547360903, 'dropout_dense_block_one': 0.4577575005976964}\n",
            "accuarcy=0.9680272340774536\n",
            "100%|██████████| 30/30 [09:08<00:00, 18.27s/it, best loss: -0.9746031761169434]\n"
          ],
          "name": "stdout"
        }
      ]
    },
    {
      "cell_type": "code",
      "metadata": {
        "id": "V5gogAR7GgIu",
        "colab_type": "code",
        "colab": {}
      },
      "source": [
        ""
      ],
      "execution_count": 0,
      "outputs": []
    }
  ]
}